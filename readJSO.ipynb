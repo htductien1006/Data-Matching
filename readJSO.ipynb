{
 "cells": [
  {
   "cell_type": "code",
   "execution_count": 1,
   "metadata": {},
   "outputs": [],
   "source": [
    "import jnius_config\n",
    "import pandas\n",
    "jnius_config.add_classpath('jedai-core-3.2.1-jar-with-dependencies.jar')\n",
    "from jnius import autoclass"
   ]
  },
  {
   "cell_type": "code",
   "execution_count": 13,
   "metadata": {},
   "outputs": [],
   "source": [
    "pathList = ['D:\\\\MyUniversity\\\\HK222\\\\DataMining\\\\Assignment\\\\datasets\\\\amazonProfiles',\n",
    "            'D:\\\\MyUniversity\\\\HK222\\\\DataMining\\\\Assignment\\\\datasets\\\\gpProfiles']\n",
    "\n",
    "dataframes = ['amazonProfiles', 'gpProfiles']"
   ]
  },
  {
   "cell_type": "code",
   "execution_count": 32,
   "metadata": {},
   "outputs": [],
   "source": [
    "entityProfileList = []\n",
    "for path, fileName in zip(pathList, dataframes):\n",
    "    EntitySerializationReader = autoclass(\"org.scify.jedai.datareader.entityreader.EntitySerializationReader\")\n",
    "    data=EntitySerializationReader(path)\n",
    "    entityProfiles=data.getEntityProfiles()\n",
    "    entityProfileList.append(entityProfiles)\n",
    "    profilesIterator = entityProfiles.iterator()\n",
    "    profiles=[]\n",
    "    while profilesIterator.hasNext():\n",
    "            profile = profilesIterator.next()\n",
    "            pf = {\"id\": len(profiles)}\n",
    "            attributesIterator = profile.getAttributes().iterator()\n",
    "            while attributesIterator.hasNext():\n",
    "                attribute = attributesIterator.next()\n",
    "                pf[attribute.getName()] = attribute.getValue()\n",
    "            profiles.append(pf)\n",
    "\n",
    "    df = pandas.DataFrame(profiles)\n",
    "\n",
    "    df.to_csv(f'{fileName}.csv', index= False)"
   ]
  },
  {
   "cell_type": "code",
   "execution_count": 24,
   "metadata": {},
   "outputs": [
    {
     "name": "stdout",
     "output_type": "stream",
     "text": [
      "<java.util.Set at 0x27df5c2dda0 jclass=java/util/Set jself=<LocalRef obj=0x-2e736820 at 0x27df5bec330>>\n"
     ]
    }
   ],
   "source": [
    "groundTruthPath = 'D:\\\\MyUniversity\\\\HK222\\\\DataMining\\\\Assignment\\\\datasets\\\\amazonGpIdDuplicates'\n",
    "\n",
    "GroundTruthReader = autoclass(\"org.scify.jedai.datareader.groundtruthreader.GtSerializationReader\")\n",
    "\n",
    "groundTruth = GroundTruthReader(groundTruthPath)\n",
    "\n",
    "groundTruthPairs = groundTruth.getDuplicatePairs(entityProfileList[0], entityProfileList[1])\n",
    "\n"
   ]
  },
  {
   "cell_type": "code",
   "execution_count": 30,
   "metadata": {},
   "outputs": [
    {
     "name": "stdout",
     "output_type": "stream",
     "text": [
      "[(650, 233), (577, 148), (1286, 697), (1098, 1965), (891, 2763)]\n"
     ]
    }
   ],
   "source": [
    "pairsIterator = groundTruthPairs.iterator()\n",
    "idPairs = []\n",
    "\n",
    "while pairsIterator.hasNext():\n",
    "    pair = pairsIterator.next()\n",
    "    entityId1 = pair.getEntityId1()\n",
    "    entityId2 = pair.getEntityId2()\n",
    "    idPairs.append((entityId1, entityId2))\n",
    "\n",
    "print(idPairs[:5])"
   ]
  },
  {
   "cell_type": "code",
   "execution_count": null,
   "metadata": {},
   "outputs": [],
   "source": []
  }
 ],
 "metadata": {
  "kernelspec": {
   "display_name": "venv",
   "language": "python",
   "name": "python3"
  },
  "language_info": {
   "codemirror_mode": {
    "name": "ipython",
    "version": 3
   },
   "file_extension": ".py",
   "mimetype": "text/x-python",
   "name": "python",
   "nbconvert_exporter": "python",
   "pygments_lexer": "ipython3",
   "version": "3.10.7"
  },
  "orig_nbformat": 4
 },
 "nbformat": 4,
 "nbformat_minor": 2
}
